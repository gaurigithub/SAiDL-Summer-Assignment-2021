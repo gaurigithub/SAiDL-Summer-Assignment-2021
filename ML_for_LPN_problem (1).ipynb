{
  "nbformat": 4,
  "nbformat_minor": 0,
  "metadata": {
    "colab": {
      "name": "ML_for_LPN_problem.ipynb",
      "provenance": []
    },
    "kernelspec": {
      "name": "python3",
      "display_name": "Python 3"
    },
    "language_info": {
      "name": "python"
    }
  },
  "cells": [
    {
      "cell_type": "code",
      "metadata": {
        "id": "2BfQ5GDtcBco"
      },
      "source": [
        "import numpy as np\n",
        "from sklearn.tree import DecisionTreeClassifier"
      ],
      "execution_count": 1,
      "outputs": []
    },
    {
      "cell_type": "code",
      "metadata": {
        "id": "cpL10yZ5cewb"
      },
      "source": [
        "class LPNOracle:\n",
        "    def __init__(self, secret, error_rate):\n",
        "        self.secret = secret\n",
        "        self.dimension = len(secret)\n",
        "        self.error_rate = error_rate\n",
        "        \n",
        "    def sample(self, n_amount):\n",
        "        # Create random matrix\n",
        "        A = np.random.randint(0, 2, size=(n_amount, self.dimension))\n",
        "        # Add Bernoulli errors\n",
        "        e = np.random.binomial(1, self.error_rate, n_amount)\n",
        "        # Compute the labels\n",
        "        b = np.mod(A @ self.secret + e, 2)\n",
        "        return A, b"
      ],
      "execution_count": 2,
      "outputs": []
    },
    {
      "cell_type": "code",
      "metadata": {
        "id": "jZs1t3wdfMT5"
      },
      "source": [
        "#we instantiate this oracle with a random secret of length 16 and p=0.125.\n",
        "p = 0.125\n",
        "dim = 8       # Tried changing it to 4, 16 et cetra  \n",
        "s = np.random.randint(0, 2, dim)\n",
        "lpn = LPNOracle(s, p)"
      ],
      "execution_count": 3,
      "outputs": []
    },
    {
      "cell_type": "code",
      "metadata": {
        "colab": {
          "base_uri": "https://localhost:8080/"
        },
        "id": "ldBIIJhrfgnT",
        "outputId": "fac704f7-dbe1-4ee4-e72f-293774c7ac14"
      },
      "source": [
        "#We can now sample from the lpn :\n",
        "#Here we have sampled 3 data points.\n",
        "lpn.sample(3)"
      ],
      "execution_count": 4,
      "outputs": [
        {
          "output_type": "execute_result",
          "data": {
            "text/plain": [
              "(array([[0, 0, 0, 1, 0, 0, 0, 0],\n",
              "        [1, 0, 0, 0, 1, 1, 0, 0],\n",
              "        [0, 0, 0, 1, 0, 0, 1, 0]]), array([0, 1, 0]))"
            ]
          },
          "metadata": {
            "tags": []
          },
          "execution_count": 4
        }
      ]
    },
    {
      "cell_type": "code",
      "metadata": {
        "colab": {
          "base_uri": "https://localhost:8080/"
        },
        "id": "IKSgAyGCgBZs",
        "outputId": "d8f23cd0-ec08-4620-9d25-0fb8202d61dd"
      },
      "source": [
        "#let us try to find s using a Decision Tree.\n",
        "dt = DecisionTreeClassifier()\n",
        "# Get 100000 samples.\n",
        "A, b = lpn.sample(100000)\n",
        "# Fit the tree.\n",
        "dt.fit(A, b)\n",
        "# Predict all canonical unit vectors  (1, 0, 0, ..., 0), \n",
        "#                                     (0, 1, 0, ..., 0),\n",
        "#                                     ..., \n",
        "#                                     (0, 0, 0, ..., 0, 1)\n",
        "s_candidate = dt.predict(np.eye(dim))\n",
        "# Check if the candidate solution is correct.\n",
        "if np.mod(A @ s_candidate + b, 2).sum() < 14000:\n",
        "    print(s_candidate, s)\n",
        "else:\n",
        "    print('Wrong candidate. Try again!')"
      ],
      "execution_count": 5,
      "outputs": [
        {
          "output_type": "stream",
          "text": [
            "[0 0 0 0 1 0 0 1] [0 0 0 0 1 0 0 1]\n"
          ],
          "name": "stdout"
        }
      ]
    },
    {
      "cell_type": "code",
      "metadata": {
        "id": "9a3ZOx2Tg227"
      },
      "source": [
        "#we instantiate this oracle with a random secret of length 16 and p=0.125.\n",
        "p = 0.125\n",
        "dim = 16\n",
        "s = np.random.randint(0, 2, dim)\n",
        "lpn = LPNOracle(s, p)"
      ],
      "execution_count": 6,
      "outputs": []
    },
    {
      "cell_type": "code",
      "metadata": {
        "colab": {
          "base_uri": "https://localhost:8080/"
        },
        "id": "NH1QlDzMmQog",
        "outputId": "ed2aefc5-34b6-4fef-c3a0-c5c6892bd27c"
      },
      "source": [
        "#let us try to find s using a Decision Tree.\n",
        "dt = DecisionTreeClassifier()\n",
        "# Get 100000 samples.\n",
        "A, b = lpn.sample(100000)\n",
        "# Fit the tree.\n",
        "dt.fit(A, b)\n",
        "# Predict all canonical unit vectors  (1, 0, 0, ..., 0), \n",
        "#                                     (0, 1, 0, ..., 0),\n",
        "#                                     ..., \n",
        "#                                     (0, 0, 0, ..., 0, 1)\n",
        "s_candidate = dt.predict(np.eye(dim))\n",
        "# Check if the candidate solution is correct.\n",
        "if np.mod(A @ s_candidate + b, 2).sum() < 14000:\n",
        "    print(s_candidate, s)\n",
        "else:\n",
        "    print('Wrong candidate. Try again!')"
      ],
      "execution_count": 7,
      "outputs": [
        {
          "output_type": "stream",
          "text": [
            "Wrong candidate. Try again!\n"
          ],
          "name": "stdout"
        }
      ]
    }
  ]
}